{
 "cells": [
  {
   "cell_type": "markdown",
   "metadata": {},
   "source": [
    "# Assignment 02\n",
    "\n",
    "\n",
    "![http://www.pratt.edu/tiny_mce/plugins/imagemanager/files/Light_brown_blue22.jpg](http://www.pratt.edu/tiny_mce/plugins/imagemanager/files/Light_brown_blue22.jpg)"
   ]
  },
  {
   "cell_type": "markdown",
   "metadata": {
    "toc": true
   },
   "source": [
    "<h1>Table of Contents<span class=\"tocSkip\"></span></h1>\n",
    "<div class=\"toc\"><ul class=\"toc-item\"><li><span><a href=\"#Assignment-02\" data-toc-modified-id=\"Assignment-02-1\">Assignment 02</a></span><ul class=\"toc-item\"><li><span><a href=\"#Instructions\" data-toc-modified-id=\"Instructions-1.1\">Instructions</a></span></li></ul></li><li><span><a href=\"#Import-Libraries\" data-toc-modified-id=\"Import-Libraries-2\">Import Libraries</a></span></li><li><span><a href=\"#Collect-the-Necessary-Data\" data-toc-modified-id=\"Collect-the-Necessary-Data-3\">Collect the Necessary Data</a></span><ul class=\"toc-item\"><li><span><a href=\"#Hospitals-Data\" data-toc-modified-id=\"Hospitals-Data-3.1\">Hospitals Data</a></span><ul class=\"toc-item\"><li><ul class=\"toc-item\"><li><span><a href=\"#Load-this-file-into-a-GeoDataFrame\" data-toc-modified-id=\"Load-this-file-into-a-GeoDataFrame-3.1.0.1\">Load this file into a GeoDataFrame</a></span></li><li><span><a href=\"#Check-the-first-3-rows-(aka-the-head())-of-the-DataFrame\" data-toc-modified-id=\"Check-the-first-3-rows-(aka-the-head())-of-the-DataFrame-3.1.0.2\">Check the first 3 rows (aka the head()) of the DataFrame</a></span></li><li><span><a href=\"#Query-the-Hospitals-GeoDataFrame-to-only-include-NY-State-Hospitals.\" data-toc-modified-id=\"Query-the-Hospitals-GeoDataFrame-to-only-include-NY-State-Hospitals.-3.1.0.3\">Query the Hospitals GeoDataFrame to only include NY State Hospitals.</a></span></li><li><span><a href=\"#Next-let's-Query-only-include-Hospitals-in-New-York-City-Counties\" data-toc-modified-id=\"Next-let's-Query-only-include-Hospitals-in-New-York-City-Counties-3.1.0.4\">Next let's Query only include Hospitals in New York City Counties</a></span></li><li><span><a href=\"#Check-the-first-3-rows-(aka-the-head())-of-the-DataFrame\" data-toc-modified-id=\"Check-the-first-3-rows-(aka-the-head())-of-the-DataFrame-3.1.0.5\">Check the first 3 rows (aka the head()) of the DataFrame</a></span></li><li><span><a href=\"#You've-been-supplied-code-to-reclass--999-Missing-Values-to-Null\" data-toc-modified-id=\"You've-been-supplied-code-to-reclass--999-Missing-Values-to-Null-3.1.0.6\">You've been supplied code to reclass -999 Missing Values to Null</a></span></li><li><span><a href=\"#Plot-the-Distribution-of-NYC-Hospital-Beds-in-a-Histogram-Plot\" data-toc-modified-id=\"Plot-the-Distribution-of-NYC-Hospital-Beds-in-a-Histogram-Plot-3.1.0.7\">Plot the Distribution of NYC Hospital Beds in a Histogram Plot</a></span></li><li><span><a href=\"#Do-a-quick-GeoDataFrame-Map--.plot()-to-see-our-the-spatial-distribution-of-our-data\" data-toc-modified-id=\"Do-a-quick-GeoDataFrame-Map--.plot()-to-see-our-the-spatial-distribution-of-our-data-3.1.0.8\">Do a quick GeoDataFrame Map  <code>.plot()</code> to see our the spatial distribution of our data</a></span></li><li><span><a href=\"#We'll-use-our-boro_data-Dictionary-from-Assignment-01\" data-toc-modified-id=\"We'll-use-our-boro_data-Dictionary-from-Assignment-01-3.1.0.9\">We'll use our <code>boro_data</code> Dictionary from Assignment 01</a></span></li><li><span><a href=\"#Let's-check-out-boro_df\" data-toc-modified-id=\"Let's-check-out-boro_df-3.1.0.10\">Let's check out <code>boro_df</code></a></span></li><li><span><a href=\"#Run-a-.merge()-to-add-the-boro_df-data-to-the-nyc_hospitals-GeoDataFrame\" data-toc-modified-id=\"Run-a-.merge()-to-add-the-boro_df-data-to-the-nyc_hospitals-GeoDataFrame-3.1.0.11\">Run a <code>.merge()</code> to add the <code>boro_df</code> data to the <code>nyc_hospitals</code> GeoDataFrame</a></span></li><li><span><a href=\"#Display-the-first-10-rows-of-the-GeoDataFrame-.head(...-hint,-n=)\" data-toc-modified-id=\"Display-the-first-10-rows-of-the-GeoDataFrame-.head(...-hint,-n=)-3.1.0.12\">Display the first 10 rows of the GeoDataFrame <code>.head(... hint, n=)</code></a></span></li><li><span><a href=\"#Groupby-and-Sum-the-BEDS-variable\" data-toc-modified-id=\"Groupby-and-Sum-the-BEDS-variable-3.1.0.13\">Groupby and Sum the BEDS variable</a></span></li><li><span><a href=\"#Display-the-.head()-of-grouped\" data-toc-modified-id=\"Display-the-.head()-of-grouped-3.1.0.14\">Display the <code>.head()</code> of <code>grouped</code></a></span></li><li><span><a href=\"#Create-a-new-column-called-boro_pop_per_hosp_bed.\" data-toc-modified-id=\"Create-a-new-column-called-boro_pop_per_hosp_bed.-3.1.0.15\">Create a new column called <code>boro_pop_per_hosp_bed</code>.</a></span></li><li><span><a href=\"#This-column-will-be-the-Calculation-of-Population-/-Beds--(-/-meaning-divided-by)\" data-toc-modified-id=\"This-column-will-be-the-Calculation-of-Population-/-Beds--(-/-meaning-divided-by)-3.1.0.16\">This column will be the Calculation of Population / Beds  ( / meaning divided by)</a></span></li><li><span><a href=\"#Display-the-.head()-of-grouped-DataFrame-to-check-our-results\" data-toc-modified-id=\"Display-the-.head()-of-grouped-DataFrame-to-check-our-results-3.1.0.17\">Display the <code>.head()</code> of <code>grouped</code> DataFrame to check our results</a></span></li><li><span><a href=\"#Plot-a-bar-chart-showing-Borough-Population-per-Hospital-Bed\" data-toc-modified-id=\"Plot-a-bar-chart-showing-Borough-Population-per-Hospital-Bed-3.1.0.18\">Plot a bar chart showing Borough Population per Hospital Bed</a></span></li></ul></li></ul></li></ul></li><li><span><a href=\"#Map-our-Final-Results\" data-toc-modified-id=\"Map-our-Final-Results-4\">Map our Final Results</a></span><ul class=\"toc-item\"><li><ul class=\"toc-item\"><li><ul class=\"toc-item\"><li><span><a href=\"#Read-in-boro_geojso_link-as-GeoDataFrame-called-boro\" data-toc-modified-id=\"Read-in-boro_geojso_link-as-GeoDataFrame-called-boro-4.0.0.1\">Read in <code>boro_geojso_link</code> as GeoDataFrame called <code>boro</code></a></span></li><li><span><a href=\"#Merge-boro-to-grouped-on-boro_code-with-a-'left'-as-how=\" data-toc-modified-id=\"Merge-boro-to-grouped-on-boro_code-with-a-'left'-as-how=-4.0.0.2\">Merge <code>boro</code> to <code>grouped</code> on <code>boro_code</code> with a 'left' as <code>how=</code></a></span></li></ul></li></ul></li></ul></li></ul></div>"
   ]
  },
  {
   "cell_type": "markdown",
   "metadata": {},
   "source": [
    "## Instructions\n",
    "\n",
    "---\n",
    "\n",
    "You are a new hire in NYC Government's new Department of Geospatial Technology. Your manager has asked you to complete the following assignment.\n",
    "\n",
    "The Mayor of the City of New York and the Governor of New York State have tasked your team in evaluating the **number of hospital beds** per **population** by **borough**. "
   ]
  },
  {
   "cell_type": "markdown",
   "metadata": {},
   "source": [
    "# Import Libraries\n",
    "The libraries required for this assignment are imported for you below."
   ]
  },
  {
   "cell_type": "code",
   "execution_count": 4,
   "metadata": {},
   "outputs": [],
   "source": [
    "import pandas as pd\n",
    "import geopandas as gpd \n",
    "import numpy as np\n",
    "import matplotlib.pyplot as plt"
   ]
  },
  {
   "cell_type": "code",
   "execution_count": 5,
   "metadata": {},
   "outputs": [],
   "source": [
    "%matplotlib inline"
   ]
  },
  {
   "cell_type": "code",
   "execution_count": 6,
   "metadata": {},
   "outputs": [],
   "source": [
    "plt.style.use('ggplot')  # we're going to use ggplot styled plots"
   ]
  },
  {
   "cell_type": "markdown",
   "metadata": {},
   "source": [
    "# Collect the Necessary Data"
   ]
  },
  {
   "cell_type": "markdown",
   "metadata": {},
   "source": [
    "## Hospitals Data\n",
    "\n",
    "You've been supplied the url for the Hospitals Data to use. Run the cell below. "
   ]
  },
  {
   "cell_type": "code",
   "execution_count": 7,
   "metadata": {},
   "outputs": [],
   "source": [
    "geojson_link = 'https://opendata.arcgis.com/datasets/6ac5e325468c4cb9b905f1728d6fbf0f_0.geojson'"
   ]
  },
  {
   "cell_type": "markdown",
   "metadata": {},
   "source": [
    "#### Load this file into a GeoDataFrame\n",
    "See **Lesson 03 GeoPandas section** for reference. \n",
    "\n",
    "You're being asking to load the GeoDataFrame as a variable named `gdf`. \n",
    "\n",
    "```python\n",
    "\n",
    "gdf = # \"read\" the \"file\" - file being the .geoson link above\n",
    "\n",
    "```"
   ]
  },
  {
   "cell_type": "code",
   "execution_count": 8,
   "metadata": {},
   "outputs": [
    {
     "name": "stdout",
     "output_type": "stream",
     "text": [
      "<class 'geopandas.geodataframe.GeoDataFrame'>\n"
     ]
    }
   ],
   "source": [
    "gdf = gpd.read_file(geojson_link)\n",
    "print(type(gdf))\n",
    "### your code here"
   ]
  },
  {
   "cell_type": "markdown",
   "metadata": {},
   "source": [
    "#### Check the first 3 rows (aka the head()) of the DataFrame "
   ]
  },
  {
   "cell_type": "code",
   "execution_count": 9,
   "metadata": {},
   "outputs": [
    {
     "data": {
      "text/html": [
       "<div>\n",
       "<style scoped>\n",
       "    .dataframe tbody tr th:only-of-type {\n",
       "        vertical-align: middle;\n",
       "    }\n",
       "\n",
       "    .dataframe tbody tr th {\n",
       "        vertical-align: top;\n",
       "    }\n",
       "\n",
       "    .dataframe thead th {\n",
       "        text-align: right;\n",
       "    }\n",
       "</style>\n",
       "<table border=\"1\" class=\"dataframe\">\n",
       "  <thead>\n",
       "    <tr style=\"text-align: right;\">\n",
       "      <th></th>\n",
       "      <th>OBJECTID</th>\n",
       "      <th>ID</th>\n",
       "      <th>NAME</th>\n",
       "      <th>ADDRESS</th>\n",
       "      <th>CITY</th>\n",
       "      <th>STATE</th>\n",
       "      <th>ZIP</th>\n",
       "      <th>ZIP4</th>\n",
       "      <th>TELEPHONE</th>\n",
       "      <th>TYPE</th>\n",
       "      <th>...</th>\n",
       "      <th>WEBSITE</th>\n",
       "      <th>STATE_ID</th>\n",
       "      <th>ALT_NAME</th>\n",
       "      <th>ST_FIPS</th>\n",
       "      <th>OWNER</th>\n",
       "      <th>TTL_STAFF</th>\n",
       "      <th>BEDS</th>\n",
       "      <th>TRAUMA</th>\n",
       "      <th>HELIPAD</th>\n",
       "      <th>geometry</th>\n",
       "    </tr>\n",
       "  </thead>\n",
       "  <tbody>\n",
       "    <tr>\n",
       "      <th>0</th>\n",
       "      <td>1001</td>\n",
       "      <td>0007892363</td>\n",
       "      <td>COLORADO RIVER MEDICAL CENTER</td>\n",
       "      <td>1401 BAILEY AVENUE</td>\n",
       "      <td>NEEDLES</td>\n",
       "      <td>CA</td>\n",
       "      <td>92363</td>\n",
       "      <td>NOT AVAILABLE</td>\n",
       "      <td>NOT AVAILABLE</td>\n",
       "      <td>GENERAL ACUTE CARE</td>\n",
       "      <td>...</td>\n",
       "      <td>http://www.cityofneedles.com/Hospitals.asp</td>\n",
       "      <td>NOT AVAILABLE</td>\n",
       "      <td>NOT AVAILABLE</td>\n",
       "      <td>06</td>\n",
       "      <td>GOVERNMENT - LOCAL</td>\n",
       "      <td>-999</td>\n",
       "      <td>25</td>\n",
       "      <td>NOT AVAILABLE</td>\n",
       "      <td>Y</td>\n",
       "      <td>POINT (-114.61749 34.83307)</td>\n",
       "    </tr>\n",
       "    <tr>\n",
       "      <th>1</th>\n",
       "      <td>1002</td>\n",
       "      <td>0001392120</td>\n",
       "      <td>ALVARADO HOSPITAL MEDICAL CENTER</td>\n",
       "      <td>6655 ALVARADO ROAD</td>\n",
       "      <td>SAN DIEGO</td>\n",
       "      <td>CA</td>\n",
       "      <td>92120</td>\n",
       "      <td>NOT AVAILABLE</td>\n",
       "      <td>NOT AVAILABLE</td>\n",
       "      <td>GENERAL ACUTE CARE</td>\n",
       "      <td>...</td>\n",
       "      <td>http://www.alvaradohospital.com</td>\n",
       "      <td>NOT AVAILABLE</td>\n",
       "      <td>NOT AVAILABLE</td>\n",
       "      <td>06</td>\n",
       "      <td>PROPRIETARY</td>\n",
       "      <td>-999</td>\n",
       "      <td>226</td>\n",
       "      <td>NOT AVAILABLE</td>\n",
       "      <td>N</td>\n",
       "      <td>POINT (-117.05706 32.77659)</td>\n",
       "    </tr>\n",
       "    <tr>\n",
       "      <th>2</th>\n",
       "      <td>1003</td>\n",
       "      <td>0001591942</td>\n",
       "      <td>ALVARADO PARKWAY INSTITUTE B.H.S.</td>\n",
       "      <td>7050 PARKWAY DRIVE</td>\n",
       "      <td>LA MESA</td>\n",
       "      <td>CA</td>\n",
       "      <td>91942</td>\n",
       "      <td>NOT AVAILABLE</td>\n",
       "      <td>NOT AVAILABLE</td>\n",
       "      <td>PSYCHIATRIC</td>\n",
       "      <td>...</td>\n",
       "      <td>http://www.apibhs.com</td>\n",
       "      <td>NOT AVAILABLE</td>\n",
       "      <td>NOT AVAILABLE</td>\n",
       "      <td>06</td>\n",
       "      <td>PROPRIETARY</td>\n",
       "      <td>-999</td>\n",
       "      <td>66</td>\n",
       "      <td>NOT AVAILABLE</td>\n",
       "      <td>N</td>\n",
       "      <td>POINT (-117.04416 32.77463)</td>\n",
       "    </tr>\n",
       "  </tbody>\n",
       "</table>\n",
       "<p>3 rows × 33 columns</p>\n",
       "</div>"
      ],
      "text/plain": [
       "   OBJECTID          ID                               NAME  \\\n",
       "0      1001  0007892363      COLORADO RIVER MEDICAL CENTER   \n",
       "1      1002  0001392120   ALVARADO HOSPITAL MEDICAL CENTER   \n",
       "2      1003  0001591942  ALVARADO PARKWAY INSTITUTE B.H.S.   \n",
       "\n",
       "              ADDRESS       CITY STATE    ZIP           ZIP4      TELEPHONE  \\\n",
       "0  1401 BAILEY AVENUE    NEEDLES    CA  92363  NOT AVAILABLE  NOT AVAILABLE   \n",
       "1  6655 ALVARADO ROAD  SAN DIEGO    CA  92120  NOT AVAILABLE  NOT AVAILABLE   \n",
       "2  7050 PARKWAY DRIVE    LA MESA    CA  91942  NOT AVAILABLE  NOT AVAILABLE   \n",
       "\n",
       "                 TYPE  ...                                     WEBSITE  \\\n",
       "0  GENERAL ACUTE CARE  ...  http://www.cityofneedles.com/Hospitals.asp   \n",
       "1  GENERAL ACUTE CARE  ...             http://www.alvaradohospital.com   \n",
       "2         PSYCHIATRIC  ...                       http://www.apibhs.com   \n",
       "\n",
       "        STATE_ID       ALT_NAME ST_FIPS               OWNER  TTL_STAFF  BEDS  \\\n",
       "0  NOT AVAILABLE  NOT AVAILABLE      06  GOVERNMENT - LOCAL       -999    25   \n",
       "1  NOT AVAILABLE  NOT AVAILABLE      06         PROPRIETARY       -999   226   \n",
       "2  NOT AVAILABLE  NOT AVAILABLE      06         PROPRIETARY       -999    66   \n",
       "\n",
       "          TRAUMA HELIPAD                     geometry  \n",
       "0  NOT AVAILABLE       Y  POINT (-114.61749 34.83307)  \n",
       "1  NOT AVAILABLE       N  POINT (-117.05706 32.77659)  \n",
       "2  NOT AVAILABLE       N  POINT (-117.04416 32.77463)  \n",
       "\n",
       "[3 rows x 33 columns]"
      ]
     },
     "execution_count": 9,
     "metadata": {},
     "output_type": "execute_result"
    }
   ],
   "source": [
    "gdf.head(3)"
   ]
  },
  {
   "cell_type": "markdown",
   "metadata": {},
   "source": [
    "#### Query the Hospitals GeoDataFrame to only include NY State Hospitals. "
   ]
  },
  {
   "cell_type": "code",
   "execution_count": 10,
   "metadata": {},
   "outputs": [
    {
     "data": {
      "text/html": [
       "<div>\n",
       "<style scoped>\n",
       "    .dataframe tbody tr th:only-of-type {\n",
       "        vertical-align: middle;\n",
       "    }\n",
       "\n",
       "    .dataframe tbody tr th {\n",
       "        vertical-align: top;\n",
       "    }\n",
       "\n",
       "    .dataframe thead th {\n",
       "        text-align: right;\n",
       "    }\n",
       "</style>\n",
       "<table border=\"1\" class=\"dataframe\">\n",
       "  <thead>\n",
       "    <tr style=\"text-align: right;\">\n",
       "      <th></th>\n",
       "      <th>OBJECTID</th>\n",
       "      <th>ID</th>\n",
       "      <th>NAME</th>\n",
       "      <th>ADDRESS</th>\n",
       "      <th>CITY</th>\n",
       "      <th>STATE</th>\n",
       "      <th>ZIP</th>\n",
       "      <th>ZIP4</th>\n",
       "      <th>TELEPHONE</th>\n",
       "      <th>TYPE</th>\n",
       "      <th>...</th>\n",
       "      <th>WEBSITE</th>\n",
       "      <th>STATE_ID</th>\n",
       "      <th>ALT_NAME</th>\n",
       "      <th>ST_FIPS</th>\n",
       "      <th>OWNER</th>\n",
       "      <th>TTL_STAFF</th>\n",
       "      <th>BEDS</th>\n",
       "      <th>TRAUMA</th>\n",
       "      <th>HELIPAD</th>\n",
       "      <th>geometry</th>\n",
       "    </tr>\n",
       "  </thead>\n",
       "  <tbody>\n",
       "    <tr>\n",
       "      <th>500</th>\n",
       "      <td>1501</td>\n",
       "      <td>0003611790</td>\n",
       "      <td>STONY BROOK UNIVERSITY HOSPITAL</td>\n",
       "      <td>101 NICOLLS RD</td>\n",
       "      <td>STONY BROOK</td>\n",
       "      <td>NY</td>\n",
       "      <td>11790</td>\n",
       "      <td>NOT AVAILABLE</td>\n",
       "      <td>(516) 689-3333</td>\n",
       "      <td>GENERAL ACUTE CARE</td>\n",
       "      <td>...</td>\n",
       "      <td>https://www.stonybrookmedicine.edu/sbuh</td>\n",
       "      <td>5151001H</td>\n",
       "      <td>NOT AVAILABLE</td>\n",
       "      <td>36</td>\n",
       "      <td>GOVERNMENT - STATE</td>\n",
       "      <td>-999</td>\n",
       "      <td>603</td>\n",
       "      <td>LEVEL I, LEVEL I PEDIATRIC</td>\n",
       "      <td>Y</td>\n",
       "      <td>POINT (-73.11568 40.90919)</td>\n",
       "    </tr>\n",
       "    <tr>\n",
       "      <th>502</th>\n",
       "      <td>1503</td>\n",
       "      <td>0118012601</td>\n",
       "      <td>MID-HUDSON VALLEY DIVISION OF WESTCHESTER MEDI...</td>\n",
       "      <td>241 NORTH ROAD</td>\n",
       "      <td>POUGHKEEPSIE</td>\n",
       "      <td>NY</td>\n",
       "      <td>12601</td>\n",
       "      <td>NOT AVAILABLE</td>\n",
       "      <td>(845) 483-5000</td>\n",
       "      <td>GENERAL ACUTE CARE</td>\n",
       "      <td>...</td>\n",
       "      <td>http://www.midhudsonregional.org/</td>\n",
       "      <td>1302000H</td>\n",
       "      <td>ST FRANCIS HOSPITAL OF POUGHKEEPSIE</td>\n",
       "      <td>36</td>\n",
       "      <td>GOVERNMENT - LOCAL</td>\n",
       "      <td>-999</td>\n",
       "      <td>243</td>\n",
       "      <td>LEVEL II</td>\n",
       "      <td>Y</td>\n",
       "      <td>POINT (-73.92771 41.71784)</td>\n",
       "    </tr>\n",
       "    <tr>\n",
       "      <th>682</th>\n",
       "      <td>1683</td>\n",
       "      <td>0120812742</td>\n",
       "      <td>CATSKILL REGIONAL MEDICAL CENTER</td>\n",
       "      <td>68 HARRIS-BUSHVILLE RD</td>\n",
       "      <td>HARRIS</td>\n",
       "      <td>NY</td>\n",
       "      <td>12742</td>\n",
       "      <td>NOT AVAILABLE</td>\n",
       "      <td>(845) 794-3300</td>\n",
       "      <td>GENERAL ACUTE CARE</td>\n",
       "      <td>...</td>\n",
       "      <td>http://www.crmcny.org/</td>\n",
       "      <td>5263000H</td>\n",
       "      <td>NOT AVAILABLE</td>\n",
       "      <td>36</td>\n",
       "      <td>NON-PROFIT</td>\n",
       "      <td>-999</td>\n",
       "      <td>154</td>\n",
       "      <td>NOT AVAILABLE</td>\n",
       "      <td>Y</td>\n",
       "      <td>POINT (-74.73752 41.70906)</td>\n",
       "    </tr>\n",
       "  </tbody>\n",
       "</table>\n",
       "<p>3 rows × 33 columns</p>\n",
       "</div>"
      ],
      "text/plain": [
       "     OBJECTID          ID                                               NAME  \\\n",
       "500      1501  0003611790                    STONY BROOK UNIVERSITY HOSPITAL   \n",
       "502      1503  0118012601  MID-HUDSON VALLEY DIVISION OF WESTCHESTER MEDI...   \n",
       "682      1683  0120812742                   CATSKILL REGIONAL MEDICAL CENTER   \n",
       "\n",
       "                    ADDRESS          CITY STATE    ZIP           ZIP4  \\\n",
       "500          101 NICOLLS RD   STONY BROOK    NY  11790  NOT AVAILABLE   \n",
       "502          241 NORTH ROAD  POUGHKEEPSIE    NY  12601  NOT AVAILABLE   \n",
       "682  68 HARRIS-BUSHVILLE RD        HARRIS    NY  12742  NOT AVAILABLE   \n",
       "\n",
       "          TELEPHONE                TYPE  ...  \\\n",
       "500  (516) 689-3333  GENERAL ACUTE CARE  ...   \n",
       "502  (845) 483-5000  GENERAL ACUTE CARE  ...   \n",
       "682  (845) 794-3300  GENERAL ACUTE CARE  ...   \n",
       "\n",
       "                                     WEBSITE  STATE_ID  \\\n",
       "500  https://www.stonybrookmedicine.edu/sbuh  5151001H   \n",
       "502        http://www.midhudsonregional.org/  1302000H   \n",
       "682                   http://www.crmcny.org/  5263000H   \n",
       "\n",
       "                                ALT_NAME ST_FIPS               OWNER  \\\n",
       "500                        NOT AVAILABLE      36  GOVERNMENT - STATE   \n",
       "502  ST FRANCIS HOSPITAL OF POUGHKEEPSIE      36  GOVERNMENT - LOCAL   \n",
       "682                        NOT AVAILABLE      36          NON-PROFIT   \n",
       "\n",
       "     TTL_STAFF  BEDS                      TRAUMA HELIPAD  \\\n",
       "500       -999   603  LEVEL I, LEVEL I PEDIATRIC       Y   \n",
       "502       -999   243                    LEVEL II       Y   \n",
       "682       -999   154               NOT AVAILABLE       Y   \n",
       "\n",
       "                       geometry  \n",
       "500  POINT (-73.11568 40.90919)  \n",
       "502  POINT (-73.92771 41.71784)  \n",
       "682  POINT (-74.73752 41.70906)  \n",
       "\n",
       "[3 rows x 33 columns]"
      ]
     },
     "execution_count": 10,
     "metadata": {},
     "output_type": "execute_result"
    }
   ],
   "source": [
    "ny_state_hospitals = gdf[\n",
    "    gdf['STATE'] == \"NY\"\n",
    "]\n",
    "ny_state_hospitals.head(3)"
   ]
  },
  {
   "cell_type": "markdown",
   "metadata": {},
   "source": [
    "#### Next let's Query only include Hospitals in New York City Counties\n",
    "\n",
    "There are five (5) counties in New York City. They have FIPS codes. So we want to select from the following county FIPS codes:\n",
    "\n",
    "* 36081\n",
    "* 36061\n",
    "* 36085\n",
    "* 36047\n",
    "* 36005\n",
    "\n",
    "You'll need to use the \"OR\" statement in your query `|`, you've been provided most of the code, but you need to enter the strings into the query. "
   ]
  },
  {
   "cell_type": "code",
   "execution_count": 12,
   "metadata": {},
   "outputs": [],
   "source": [
    "nyc_hospitals = ny_state_hospitals[ \n",
    "    (\n",
    "        (ny_state_hospitals['COUNTYFIPS'] == '36081') | # <place FIPS codes here>\n",
    "        (ny_state_hospitals['COUNTYFIPS'] == '36061') |  # <place FIPS codes here>\n",
    "        (ny_state_hospitals['COUNTYFIPS'] == '36085') |  # <place FIPS codes here>\n",
    "        (ny_state_hospitals['COUNTYFIPS'] == '36047') |  # <place FIPS codes here>\n",
    "        (ny_state_hospitals['COUNTYFIPS'] == '36005')    # <place FIPS codes here>\n",
    "    )  \n",
    "    \n",
    "] # selects only nyc counties hospitals, creates new dataframe\n"
   ]
  },
  {
   "cell_type": "markdown",
   "metadata": {},
   "source": [
    "#### Check the first 3 rows (aka the head()) of the DataFrame "
   ]
  },
  {
   "cell_type": "code",
   "execution_count": 13,
   "metadata": {},
   "outputs": [
    {
     "data": {
      "text/html": [
       "<div>\n",
       "<style scoped>\n",
       "    .dataframe tbody tr th:only-of-type {\n",
       "        vertical-align: middle;\n",
       "    }\n",
       "\n",
       "    .dataframe tbody tr th {\n",
       "        vertical-align: top;\n",
       "    }\n",
       "\n",
       "    .dataframe thead th {\n",
       "        text-align: right;\n",
       "    }\n",
       "</style>\n",
       "<table border=\"1\" class=\"dataframe\">\n",
       "  <thead>\n",
       "    <tr style=\"text-align: right;\">\n",
       "      <th></th>\n",
       "      <th>OBJECTID</th>\n",
       "      <th>ID</th>\n",
       "      <th>NAME</th>\n",
       "      <th>ADDRESS</th>\n",
       "      <th>CITY</th>\n",
       "      <th>STATE</th>\n",
       "      <th>ZIP</th>\n",
       "      <th>ZIP4</th>\n",
       "      <th>TELEPHONE</th>\n",
       "      <th>TYPE</th>\n",
       "      <th>...</th>\n",
       "      <th>WEBSITE</th>\n",
       "      <th>STATE_ID</th>\n",
       "      <th>ALT_NAME</th>\n",
       "      <th>ST_FIPS</th>\n",
       "      <th>OWNER</th>\n",
       "      <th>TTL_STAFF</th>\n",
       "      <th>BEDS</th>\n",
       "      <th>TRAUMA</th>\n",
       "      <th>HELIPAD</th>\n",
       "      <th>geometry</th>\n",
       "    </tr>\n",
       "  </thead>\n",
       "  <tbody>\n",
       "    <tr>\n",
       "      <th>2255</th>\n",
       "      <td>6256</td>\n",
       "      <td>0019010044</td>\n",
       "      <td>COLER-GOLDWATER SPECIALTY HOSPITAL &amp; NURSING F...</td>\n",
       "      <td>900 MAIN STREET ROOSEVELT ISLAND</td>\n",
       "      <td>NEW YORK</td>\n",
       "      <td>NY</td>\n",
       "      <td>10044</td>\n",
       "      <td>NOT AVAILABLE</td>\n",
       "      <td>(212) 848-6000</td>\n",
       "      <td>LONG TERM CARE</td>\n",
       "      <td>...</td>\n",
       "      <td>http://www.nychealthandhospitals.org/coler/</td>\n",
       "      <td>7002051H</td>\n",
       "      <td>NOT AVAILABLE</td>\n",
       "      <td>36</td>\n",
       "      <td>GOVERNMENT - LOCAL</td>\n",
       "      <td>-999</td>\n",
       "      <td>210</td>\n",
       "      <td>NOT AVAILABLE</td>\n",
       "      <td>N</td>\n",
       "      <td>POINT (-73.94214 40.77030)</td>\n",
       "    </tr>\n",
       "    <tr>\n",
       "      <th>2809</th>\n",
       "      <td>6810</td>\n",
       "      <td>0015710451</td>\n",
       "      <td>LINCOLN HOSPITAL</td>\n",
       "      <td>234 E 149TH ST</td>\n",
       "      <td>BRONX</td>\n",
       "      <td>NY</td>\n",
       "      <td>10451</td>\n",
       "      <td>NOT AVAILABLE</td>\n",
       "      <td>(212) 579-4900</td>\n",
       "      <td>GENERAL ACUTE CARE</td>\n",
       "      <td>...</td>\n",
       "      <td>http://www.nyc.gov/html/hhc/lincoln/</td>\n",
       "      <td>1172</td>\n",
       "      <td>NOT AVAILABLE</td>\n",
       "      <td>36</td>\n",
       "      <td>GOVERNMENT - LOCAL</td>\n",
       "      <td>-999</td>\n",
       "      <td>362</td>\n",
       "      <td>LEVEL I</td>\n",
       "      <td>N</td>\n",
       "      <td>POINT (-73.92438 40.81717)</td>\n",
       "    </tr>\n",
       "    <tr>\n",
       "      <th>3153</th>\n",
       "      <td>4154</td>\n",
       "      <td>0018910021</td>\n",
       "      <td>GRACIE SQUARE HOSPITAL</td>\n",
       "      <td>420 E 76TH ST, 2ND, 3RD, 4TH &amp; 5TH FLOORS</td>\n",
       "      <td>NEW YORK</td>\n",
       "      <td>NY</td>\n",
       "      <td>10021</td>\n",
       "      <td>NOT AVAILABLE</td>\n",
       "      <td>(212) 988-4400</td>\n",
       "      <td>PSYCHIATRIC</td>\n",
       "      <td>...</td>\n",
       "      <td>http://www.nygsh.org</td>\n",
       "      <td>1458</td>\n",
       "      <td>NOT AVAILABLE</td>\n",
       "      <td>36</td>\n",
       "      <td>NON-PROFIT</td>\n",
       "      <td>-999</td>\n",
       "      <td>157</td>\n",
       "      <td>NOT AVAILABLE</td>\n",
       "      <td>N</td>\n",
       "      <td>POINT (-73.95302 40.76972)</td>\n",
       "    </tr>\n",
       "  </tbody>\n",
       "</table>\n",
       "<p>3 rows × 33 columns</p>\n",
       "</div>"
      ],
      "text/plain": [
       "      OBJECTID          ID                                               NAME  \\\n",
       "2255      6256  0019010044  COLER-GOLDWATER SPECIALTY HOSPITAL & NURSING F...   \n",
       "2809      6810  0015710451                                   LINCOLN HOSPITAL   \n",
       "3153      4154  0018910021                             GRACIE SQUARE HOSPITAL   \n",
       "\n",
       "                                        ADDRESS      CITY STATE    ZIP  \\\n",
       "2255           900 MAIN STREET ROOSEVELT ISLAND  NEW YORK    NY  10044   \n",
       "2809                             234 E 149TH ST     BRONX    NY  10451   \n",
       "3153  420 E 76TH ST, 2ND, 3RD, 4TH & 5TH FLOORS  NEW YORK    NY  10021   \n",
       "\n",
       "               ZIP4       TELEPHONE                TYPE  ...  \\\n",
       "2255  NOT AVAILABLE  (212) 848-6000      LONG TERM CARE  ...   \n",
       "2809  NOT AVAILABLE  (212) 579-4900  GENERAL ACUTE CARE  ...   \n",
       "3153  NOT AVAILABLE  (212) 988-4400         PSYCHIATRIC  ...   \n",
       "\n",
       "                                          WEBSITE  STATE_ID       ALT_NAME  \\\n",
       "2255  http://www.nychealthandhospitals.org/coler/  7002051H  NOT AVAILABLE   \n",
       "2809         http://www.nyc.gov/html/hhc/lincoln/      1172  NOT AVAILABLE   \n",
       "3153                         http://www.nygsh.org      1458  NOT AVAILABLE   \n",
       "\n",
       "     ST_FIPS               OWNER  TTL_STAFF  BEDS         TRAUMA HELIPAD  \\\n",
       "2255      36  GOVERNMENT - LOCAL       -999   210  NOT AVAILABLE       N   \n",
       "2809      36  GOVERNMENT - LOCAL       -999   362        LEVEL I       N   \n",
       "3153      36          NON-PROFIT       -999   157  NOT AVAILABLE       N   \n",
       "\n",
       "                        geometry  \n",
       "2255  POINT (-73.94214 40.77030)  \n",
       "2809  POINT (-73.92438 40.81717)  \n",
       "3153  POINT (-73.95302 40.76972)  \n",
       "\n",
       "[3 rows x 33 columns]"
      ]
     },
     "execution_count": 13,
     "metadata": {},
     "output_type": "execute_result"
    }
   ],
   "source": [
    "nyc_hospitals.head(3)"
   ]
  },
  {
   "cell_type": "markdown",
   "metadata": {},
   "source": [
    "#### You've been supplied code to reclass -999 Missing Values to Null \n",
    "\n",
    "Run the code block below:"
   ]
  },
  {
   "cell_type": "code",
   "execution_count": 14,
   "metadata": {},
   "outputs": [
    {
     "name": "stdout",
     "output_type": "stream",
     "text": [
      "2255    210.0\n",
      "2809    362.0\n",
      "3153    157.0\n",
      "4399    457.0\n",
      "4400    779.0\n",
      "        ...  \n",
      "7495      NaN\n",
      "7496      NaN\n",
      "7500      NaN\n",
      "7501      NaN\n",
      "7502      NaN\n",
      "Name: BEDS, Length: 80, dtype: float64\n"
     ]
    },
    {
     "name": "stderr",
     "output_type": "stream",
     "text": [
      "<ipython-input-14-d46c972c59ca>:1: SettingWithCopyWarning: \n",
      "A value is trying to be set on a copy of a slice from a DataFrame.\n",
      "Try using .loc[row_indexer,col_indexer] = value instead\n",
      "\n",
      "See the caveats in the documentation: https://pandas.pydata.org/pandas-docs/stable/user_guide/indexing.html#returning-a-view-versus-a-copy\n",
      "  nyc_hospitals['BEDS'] = np.where(\n"
     ]
    }
   ],
   "source": [
    "nyc_hospitals['BEDS'] = np.where(\n",
    "    nyc_hospitals['BEDS'] == -999,\n",
    "    np.nan,  \n",
    "    nyc_hospitals['BEDS']\n",
    ")  # run this code as-is, you may get a warning in pink, ignore. \n",
    "print(nyc_hospitals['BEDS'])"
   ]
  },
  {
   "cell_type": "markdown",
   "metadata": {},
   "source": [
    "#### Plot the Distribution of NYC Hospital Beds in a Histogram Plot\n"
   ]
  },
  {
   "cell_type": "code",
   "execution_count": 16,
   "metadata": {},
   "outputs": [
    {
     "data": {
      "image/png": "[encoded data removed]",
      "text/plain": [
       "<Figure size 720x576 with 1 Axes>"
      ]
     },
     "metadata": {},
     "output_type": "display_data"
    }
   ],
   "source": [
    "nyc_hospitals.hist(column=['BEDS'],\n",
    "                   color='dodgerblue',\n",
    "                   bins=14,\n",
    "                   edgecolor = 'white', \n",
    "                   linewidth = .5,\n",
    "figsize=(10, 8));\n",
    "# leave the above code as-is, this sets the size of your figure. \n",
    "\n",
    "\n",
    "\n",
    "# leave this code here, this adds a title to your plot:\n",
    "plt.title('NYC Hospital Bed Count Distribution');"
   ]
  },
  {
   "cell_type": "markdown",
   "metadata": {},
   "source": [
    "#### Do a quick GeoDataFrame Map  `.plot()` to see our the spatial distribution of our data\n",
    "\n",
    "For this, please **add argument** `figsize=(10, 10)` inside our `.plot( )` function. "
   ]
  },
  {
   "cell_type": "code",
   "execution_count": 17,
   "metadata": {},
   "outputs": [
    {
     "data": {
      "image/png": "[encoded data removed]",
      "text/plain": [
       "<Figure size 720x720 with 1 Axes>"
      ]
     },
     "metadata": {},
     "output_type": "display_data"
    }
   ],
   "source": [
    "# enter your code below, plot a GeoDataFrame Map, pass figsize=(10, 10) argument\n",
    "\n",
    "nyc_hospitals.plot(figsize=(10, 10), color='dodgerblue')\n",
    "\n",
    "\n",
    "# leave this code here, this adds a title to your plot:\n",
    "plt.title('NYC Hospitals');"
   ]
  },
  {
   "cell_type": "markdown",
   "metadata": {},
   "source": [
    "#### We'll use our `boro_data` Dictionary from Assignment 01 \n",
    "Run the code block below to define the dictionary `boro_data`. "
   ]
  },
  {
   "cell_type": "code",
   "execution_count": 18,
   "metadata": {},
   "outputs": [],
   "source": [
    "boro_data = {\n",
    "    \"Manhattan\": {\n",
    "        \"COUNTYFIPS\": '36061',\n",
    "        \"boro_code\": '1',\n",
    "        \"boro_population\": 1_628_701,\n",
    "        \"boro_name\": \"Manhattan\",\n",
    "    },\n",
    "    \"Bronx\": {\n",
    "        \"COUNTYFIPS\": '36005',\n",
    "        \"boro_code\": '2',\n",
    "        \"boro_population\": 1_432_132,\n",
    "        \"boro_name\": \"Bronx\",\n",
    "    },\n",
    "    \"Brooklyn\": {\n",
    "        \"COUNTYFIPS\": '36047',\n",
    "        \"boro_code\": '3',\n",
    "        \"boro_population\": 2_582_830,\n",
    "        \"boro_name\": \"Brooklyn\",\n",
    "    },\n",
    "    \"Queens\": {\n",
    "        \"COUNTYFIPS\": '36081',\n",
    "        \"boro_code\": '4',\n",
    "        \"boro_population\": 2_278_906,\n",
    "        \"boro_name\": \"Queens\",\n",
    "    },\n",
    "    \"Staten Island\": {\n",
    "        \"COUNTYFIPS\": '36085',\n",
    "        \"boro_code\": '5',\n",
    "        \"boro_population\": 476_179,\n",
    "        \"boro_name\": \"Staten Island\",\n",
    "    },\n",
    "}"
   ]
  },
  {
   "cell_type": "code",
   "execution_count": 19,
   "metadata": {},
   "outputs": [],
   "source": [
    "boro_df = pd.DataFrame(boro_data).T\n",
    "# run this block of code as-is to convert the Dictionary to a DataFrame\n",
    "# note the .T (transpose function), maybe try running with .T commented out\n",
    "# to see the difference, for the boro_df, we need to keep the .T code"
   ]
  },
  {
   "cell_type": "markdown",
   "metadata": {},
   "source": [
    "#### Let's check out `boro_df`"
   ]
  },
  {
   "cell_type": "code",
   "execution_count": 20,
   "metadata": {},
   "outputs": [
    {
     "data": {
      "text/html": [
       "<div>\n",
       "<style scoped>\n",
       "    .dataframe tbody tr th:only-of-type {\n",
       "        vertical-align: middle;\n",
       "    }\n",
       "\n",
       "    .dataframe tbody tr th {\n",
       "        vertical-align: top;\n",
       "    }\n",
       "\n",
       "    .dataframe thead th {\n",
       "        text-align: right;\n",
       "    }\n",
       "</style>\n",
       "<table border=\"1\" class=\"dataframe\">\n",
       "  <thead>\n",
       "    <tr style=\"text-align: right;\">\n",
       "      <th></th>\n",
       "      <th>COUNTYFIPS</th>\n",
       "      <th>boro_code</th>\n",
       "      <th>boro_population</th>\n",
       "      <th>boro_name</th>\n",
       "    </tr>\n",
       "  </thead>\n",
       "  <tbody>\n",
       "    <tr>\n",
       "      <th>Manhattan</th>\n",
       "      <td>36061</td>\n",
       "      <td>1</td>\n",
       "      <td>1628701</td>\n",
       "      <td>Manhattan</td>\n",
       "    </tr>\n",
       "    <tr>\n",
       "      <th>Bronx</th>\n",
       "      <td>36005</td>\n",
       "      <td>2</td>\n",
       "      <td>1432132</td>\n",
       "      <td>Bronx</td>\n",
       "    </tr>\n",
       "    <tr>\n",
       "      <th>Brooklyn</th>\n",
       "      <td>36047</td>\n",
       "      <td>3</td>\n",
       "      <td>2582830</td>\n",
       "      <td>Brooklyn</td>\n",
       "    </tr>\n",
       "    <tr>\n",
       "      <th>Queens</th>\n",
       "      <td>36081</td>\n",
       "      <td>4</td>\n",
       "      <td>2278906</td>\n",
       "      <td>Queens</td>\n",
       "    </tr>\n",
       "    <tr>\n",
       "      <th>Staten Island</th>\n",
       "      <td>36085</td>\n",
       "      <td>5</td>\n",
       "      <td>476179</td>\n",
       "      <td>Staten Island</td>\n",
       "    </tr>\n",
       "  </tbody>\n",
       "</table>\n",
       "</div>"
      ],
      "text/plain": [
       "              COUNTYFIPS boro_code boro_population      boro_name\n",
       "Manhattan          36061         1         1628701      Manhattan\n",
       "Bronx              36005         2         1432132          Bronx\n",
       "Brooklyn           36047         3         2582830       Brooklyn\n",
       "Queens             36081         4         2278906         Queens\n",
       "Staten Island      36085         5          476179  Staten Island"
      ]
     },
     "execution_count": 20,
     "metadata": {},
     "output_type": "execute_result"
    }
   ],
   "source": [
    "boro_df.head(5)\n",
    "# your code here"
   ]
  },
  {
   "cell_type": "markdown",
   "metadata": {},
   "source": [
    "#### Run a `.merge()` to add the `boro_df` data to the `nyc_hospitals` GeoDataFrame"
   ]
  },
  {
   "cell_type": "code",
   "execution_count": 21,
   "metadata": {},
   "outputs": [
    {
     "name": "stdout",
     "output_type": "stream",
     "text": [
      "2255    36061\n",
      "2809    36005\n",
      "3153    36061\n",
      "4399    36005\n",
      "4400    36005\n",
      "        ...  \n",
      "7495    36061\n",
      "7496    36061\n",
      "7500    36081\n",
      "7501    36081\n",
      "7502    36085\n",
      "Name: COUNTYFIPS, Length: 80, dtype: object\n"
     ]
    }
   ],
   "source": [
    "print(nyc_hospitals['COUNTYFIPS'])"
   ]
  },
  {
   "cell_type": "code",
   "execution_count": 22,
   "metadata": {},
   "outputs": [
    {
     "data": {
      "text/plain": [
       "['OBJECTID',\n",
       " 'ID',\n",
       " 'NAME',\n",
       " 'ADDRESS',\n",
       " 'CITY',\n",
       " 'STATE',\n",
       " 'ZIP',\n",
       " 'ZIP4',\n",
       " 'TELEPHONE',\n",
       " 'TYPE',\n",
       " 'STATUS',\n",
       " 'POPULATION',\n",
       " 'COUNTY',\n",
       " 'COUNTYFIPS',\n",
       " 'COUNTRY',\n",
       " 'LATITUDE',\n",
       " 'LONGITUDE',\n",
       " 'NAICS_CODE',\n",
       " 'NAICS_DESC',\n",
       " 'SOURCE',\n",
       " 'SOURCEDATE',\n",
       " 'VAL_METHOD',\n",
       " 'VAL_DATE',\n",
       " 'WEBSITE',\n",
       " 'STATE_ID',\n",
       " 'ALT_NAME',\n",
       " 'ST_FIPS',\n",
       " 'OWNER',\n",
       " 'TTL_STAFF',\n",
       " 'BEDS',\n",
       " 'TRAUMA',\n",
       " 'HELIPAD',\n",
       " 'geometry']"
      ]
     },
     "execution_count": 22,
     "metadata": {},
     "output_type": "execute_result"
    }
   ],
   "source": [
    "list(nyc_hospitals.columns)"
   ]
  },
  {
   "cell_type": "code",
   "execution_count": 23,
   "metadata": {},
   "outputs": [],
   "source": [
    "merged_df = pd.merge(\n",
    "    left=nyc_hospitals,   # our hospitals geodataframe\n",
    "    right=boro_df,  # our boro dictionary dataframe variable name\n",
    "    on='COUNTYFIPS',  # the common field to merge/join these tables. \n",
    "    how='left',  # left-join, leave this line of code as-is\n",
    "    # enter your code above,  \n",
    ")  "
   ]
  },
  {
   "cell_type": "code",
   "execution_count": 24,
   "metadata": {},
   "outputs": [],
   "source": [
    "subset_df  = merged_df [[\n",
    "    'geometry',\n",
    "    'COUNTYFIPS',\n",
    "    'boro_code',\n",
    "    'boro_name',\n",
    "    'BEDS',\n",
    "    'boro_population',\n",
    "]]  # run this block of code "
   ]
  },
  {
   "cell_type": "markdown",
   "metadata": {},
   "source": [
    "#### Display the first 10 rows of the GeoDataFrame `.head(... hint, n=)`"
   ]
  },
  {
   "cell_type": "code",
   "execution_count": 25,
   "metadata": {},
   "outputs": [
    {
     "data": {
      "text/html": [
       "<div>\n",
       "<style scoped>\n",
       "    .dataframe tbody tr th:only-of-type {\n",
       "        vertical-align: middle;\n",
       "    }\n",
       "\n",
       "    .dataframe tbody tr th {\n",
       "        vertical-align: top;\n",
       "    }\n",
       "\n",
       "    .dataframe thead th {\n",
       "        text-align: right;\n",
       "    }\n",
       "</style>\n",
       "<table border=\"1\" class=\"dataframe\">\n",
       "  <thead>\n",
       "    <tr style=\"text-align: right;\">\n",
       "      <th></th>\n",
       "      <th>geometry</th>\n",
       "      <th>COUNTYFIPS</th>\n",
       "      <th>boro_code</th>\n",
       "      <th>boro_name</th>\n",
       "      <th>BEDS</th>\n",
       "      <th>boro_population</th>\n",
       "    </tr>\n",
       "  </thead>\n",
       "  <tbody>\n",
       "    <tr>\n",
       "      <th>0</th>\n",
       "      <td>POINT (-73.94214 40.77030)</td>\n",
       "      <td>36061</td>\n",
       "      <td>1</td>\n",
       "      <td>Manhattan</td>\n",
       "      <td>210.0</td>\n",
       "      <td>1628701</td>\n",
       "    </tr>\n",
       "    <tr>\n",
       "      <th>1</th>\n",
       "      <td>POINT (-73.92438 40.81717)</td>\n",
       "      <td>36005</td>\n",
       "      <td>2</td>\n",
       "      <td>Bronx</td>\n",
       "      <td>362.0</td>\n",
       "      <td>1432132</td>\n",
       "    </tr>\n",
       "    <tr>\n",
       "      <th>2</th>\n",
       "      <td>POINT (-73.95302 40.76972)</td>\n",
       "      <td>36061</td>\n",
       "      <td>1</td>\n",
       "      <td>Manhattan</td>\n",
       "      <td>157.0</td>\n",
       "      <td>1628701</td>\n",
       "    </tr>\n",
       "    <tr>\n",
       "      <th>3</th>\n",
       "      <td>POINT (-73.84751 40.85630)</td>\n",
       "      <td>36005</td>\n",
       "      <td>2</td>\n",
       "      <td>Bronx</td>\n",
       "      <td>457.0</td>\n",
       "      <td>1432132</td>\n",
       "    </tr>\n",
       "    <tr>\n",
       "      <th>4</th>\n",
       "      <td>POINT (-73.87983 40.88008)</td>\n",
       "      <td>36005</td>\n",
       "      <td>2</td>\n",
       "      <td>Bronx</td>\n",
       "      <td>779.0</td>\n",
       "      <td>1432132</td>\n",
       "    </tr>\n",
       "    <tr>\n",
       "      <th>5</th>\n",
       "      <td>POINT (-73.88106 40.88037)</td>\n",
       "      <td>36005</td>\n",
       "      <td>2</td>\n",
       "      <td>Bronx</td>\n",
       "      <td>213.0</td>\n",
       "      <td>1432132</td>\n",
       "    </tr>\n",
       "    <tr>\n",
       "      <th>6</th>\n",
       "      <td>POINT (-73.91256 40.65527)</td>\n",
       "      <td>36047</td>\n",
       "      <td>3</td>\n",
       "      <td>Brooklyn</td>\n",
       "      <td>530.0</td>\n",
       "      <td>2582830</td>\n",
       "    </tr>\n",
       "    <tr>\n",
       "      <th>7</th>\n",
       "      <td>POINT (-73.97788 40.69057)</td>\n",
       "      <td>36047</td>\n",
       "      <td>3</td>\n",
       "      <td>Brooklyn</td>\n",
       "      <td>464.0</td>\n",
       "      <td>2582830</td>\n",
       "    </tr>\n",
       "    <tr>\n",
       "      <th>8</th>\n",
       "      <td>POINT (-73.84852 40.84074)</td>\n",
       "      <td>36005</td>\n",
       "      <td>2</td>\n",
       "      <td>Bronx</td>\n",
       "      <td>NaN</td>\n",
       "      <td>1432132</td>\n",
       "    </tr>\n",
       "    <tr>\n",
       "      <th>9</th>\n",
       "      <td>POINT (-73.94469 40.65662)</td>\n",
       "      <td>36047</td>\n",
       "      <td>3</td>\n",
       "      <td>Brooklyn</td>\n",
       "      <td>639.0</td>\n",
       "      <td>2582830</td>\n",
       "    </tr>\n",
       "  </tbody>\n",
       "</table>\n",
       "</div>"
      ],
      "text/plain": [
       "                     geometry COUNTYFIPS boro_code  boro_name   BEDS  \\\n",
       "0  POINT (-73.94214 40.77030)      36061         1  Manhattan  210.0   \n",
       "1  POINT (-73.92438 40.81717)      36005         2      Bronx  362.0   \n",
       "2  POINT (-73.95302 40.76972)      36061         1  Manhattan  157.0   \n",
       "3  POINT (-73.84751 40.85630)      36005         2      Bronx  457.0   \n",
       "4  POINT (-73.87983 40.88008)      36005         2      Bronx  779.0   \n",
       "5  POINT (-73.88106 40.88037)      36005         2      Bronx  213.0   \n",
       "6  POINT (-73.91256 40.65527)      36047         3   Brooklyn  530.0   \n",
       "7  POINT (-73.97788 40.69057)      36047         3   Brooklyn  464.0   \n",
       "8  POINT (-73.84852 40.84074)      36005         2      Bronx    NaN   \n",
       "9  POINT (-73.94469 40.65662)      36047         3   Brooklyn  639.0   \n",
       "\n",
       "  boro_population  \n",
       "0         1628701  \n",
       "1         1432132  \n",
       "2         1628701  \n",
       "3         1432132  \n",
       "4         1432132  \n",
       "5         1432132  \n",
       "6         2582830  \n",
       "7         2582830  \n",
       "8         1432132  \n",
       "9         2582830  "
      ]
     },
     "execution_count": 25,
     "metadata": {},
     "output_type": "execute_result"
    }
   ],
   "source": [
    "subset_df.head(10)\n",
    "# your code here"
   ]
  },
  {
   "cell_type": "markdown",
   "metadata": {},
   "source": [
    "#### Groupby and Sum the BEDS variable\n",
    "\n",
    "Groupby: \n",
    "* boro_name\n",
    "* COUNTYFIPS\t\n",
    "* boro_code\t\n",
    "* boro_population"
   ]
  },
  {
   "cell_type": "code",
   "execution_count": 26,
   "metadata": {},
   "outputs": [
    {
     "data": {
      "text/plain": [
       "25961.0"
      ]
     },
     "execution_count": 26,
     "metadata": {},
     "output_type": "execute_result"
    }
   ],
   "source": [
    "subset_df['BEDS'].sum()"
   ]
  },
  {
   "cell_type": "code",
   "execution_count": 27,
   "metadata": {},
   "outputs": [
    {
     "data": {
      "text/html": [
       "<div>\n",
       "<style scoped>\n",
       "    .dataframe tbody tr th:only-of-type {\n",
       "        vertical-align: middle;\n",
       "    }\n",
       "\n",
       "    .dataframe tbody tr th {\n",
       "        vertical-align: top;\n",
       "    }\n",
       "\n",
       "    .dataframe thead th {\n",
       "        text-align: right;\n",
       "    }\n",
       "</style>\n",
       "<table border=\"1\" class=\"dataframe\">\n",
       "  <thead>\n",
       "    <tr style=\"text-align: right;\">\n",
       "      <th></th>\n",
       "      <th>geometry</th>\n",
       "      <th>COUNTYFIPS</th>\n",
       "      <th>boro_code</th>\n",
       "      <th>boro_name</th>\n",
       "      <th>BEDS</th>\n",
       "      <th>boro_population</th>\n",
       "    </tr>\n",
       "  </thead>\n",
       "  <tbody>\n",
       "    <tr>\n",
       "      <th>0</th>\n",
       "      <td>POINT (-73.94214 40.77030)</td>\n",
       "      <td>36061</td>\n",
       "      <td>1</td>\n",
       "      <td>Manhattan</td>\n",
       "      <td>210.0</td>\n",
       "      <td>1628701</td>\n",
       "    </tr>\n",
       "    <tr>\n",
       "      <th>1</th>\n",
       "      <td>POINT (-73.92438 40.81717)</td>\n",
       "      <td>36005</td>\n",
       "      <td>2</td>\n",
       "      <td>Bronx</td>\n",
       "      <td>362.0</td>\n",
       "      <td>1432132</td>\n",
       "    </tr>\n",
       "    <tr>\n",
       "      <th>2</th>\n",
       "      <td>POINT (-73.95302 40.76972)</td>\n",
       "      <td>36061</td>\n",
       "      <td>1</td>\n",
       "      <td>Manhattan</td>\n",
       "      <td>157.0</td>\n",
       "      <td>1628701</td>\n",
       "    </tr>\n",
       "    <tr>\n",
       "      <th>3</th>\n",
       "      <td>POINT (-73.84751 40.85630)</td>\n",
       "      <td>36005</td>\n",
       "      <td>2</td>\n",
       "      <td>Bronx</td>\n",
       "      <td>457.0</td>\n",
       "      <td>1432132</td>\n",
       "    </tr>\n",
       "    <tr>\n",
       "      <th>4</th>\n",
       "      <td>POINT (-73.87983 40.88008)</td>\n",
       "      <td>36005</td>\n",
       "      <td>2</td>\n",
       "      <td>Bronx</td>\n",
       "      <td>779.0</td>\n",
       "      <td>1432132</td>\n",
       "    </tr>\n",
       "    <tr>\n",
       "      <th>...</th>\n",
       "      <td>...</td>\n",
       "      <td>...</td>\n",
       "      <td>...</td>\n",
       "      <td>...</td>\n",
       "      <td>...</td>\n",
       "      <td>...</td>\n",
       "    </tr>\n",
       "    <tr>\n",
       "      <th>75</th>\n",
       "      <td>POINT (-73.93077 40.78831)</td>\n",
       "      <td>36061</td>\n",
       "      <td>1</td>\n",
       "      <td>Manhattan</td>\n",
       "      <td>NaN</td>\n",
       "      <td>1628701</td>\n",
       "    </tr>\n",
       "    <tr>\n",
       "      <th>76</th>\n",
       "      <td>POINT (-73.94455 40.84240)</td>\n",
       "      <td>36061</td>\n",
       "      <td>1</td>\n",
       "      <td>Manhattan</td>\n",
       "      <td>NaN</td>\n",
       "      <td>1628701</td>\n",
       "    </tr>\n",
       "    <tr>\n",
       "      <th>77</th>\n",
       "      <td>POINT (-73.73153 40.74114)</td>\n",
       "      <td>36081</td>\n",
       "      <td>4</td>\n",
       "      <td>Queens</td>\n",
       "      <td>NaN</td>\n",
       "      <td>2278906</td>\n",
       "    </tr>\n",
       "    <tr>\n",
       "      <th>78</th>\n",
       "      <td>POINT (-73.72574 40.74554)</td>\n",
       "      <td>36081</td>\n",
       "      <td>4</td>\n",
       "      <td>Queens</td>\n",
       "      <td>NaN</td>\n",
       "      <td>2278906</td>\n",
       "    </tr>\n",
       "    <tr>\n",
       "      <th>79</th>\n",
       "      <td>POINT (-74.08062 40.58202)</td>\n",
       "      <td>36085</td>\n",
       "      <td>5</td>\n",
       "      <td>Staten Island</td>\n",
       "      <td>NaN</td>\n",
       "      <td>476179</td>\n",
       "    </tr>\n",
       "  </tbody>\n",
       "</table>\n",
       "<p>80 rows × 6 columns</p>\n",
       "</div>"
      ],
      "text/plain": [
       "                      geometry COUNTYFIPS boro_code      boro_name   BEDS  \\\n",
       "0   POINT (-73.94214 40.77030)      36061         1      Manhattan  210.0   \n",
       "1   POINT (-73.92438 40.81717)      36005         2          Bronx  362.0   \n",
       "2   POINT (-73.95302 40.76972)      36061         1      Manhattan  157.0   \n",
       "3   POINT (-73.84751 40.85630)      36005         2          Bronx  457.0   \n",
       "4   POINT (-73.87983 40.88008)      36005         2          Bronx  779.0   \n",
       "..                         ...        ...       ...            ...    ...   \n",
       "75  POINT (-73.93077 40.78831)      36061         1      Manhattan    NaN   \n",
       "76  POINT (-73.94455 40.84240)      36061         1      Manhattan    NaN   \n",
       "77  POINT (-73.73153 40.74114)      36081         4         Queens    NaN   \n",
       "78  POINT (-73.72574 40.74554)      36081         4         Queens    NaN   \n",
       "79  POINT (-74.08062 40.58202)      36085         5  Staten Island    NaN   \n",
       "\n",
       "   boro_population  \n",
       "0          1628701  \n",
       "1          1432132  \n",
       "2          1628701  \n",
       "3          1432132  \n",
       "4          1432132  \n",
       "..             ...  \n",
       "75         1628701  \n",
       "76         1628701  \n",
       "77         2278906  \n",
       "78         2278906  \n",
       "79          476179  \n",
       "\n",
       "[80 rows x 6 columns]"
      ]
     },
     "execution_count": 27,
     "metadata": {},
     "output_type": "execute_result"
    }
   ],
   "source": [
    "subset_df"
   ]
  },
  {
   "cell_type": "code",
   "execution_count": 28,
   "metadata": {},
   "outputs": [
    {
     "name": "stdout",
     "output_type": "stream",
     "text": [
      "       boro_name COUNTYFIPS boro_code  boro_population     BEDS\n",
      "0          Bronx      36005         2          1432132   3822.0\n",
      "1       Brooklyn      36047         3          2582830   6166.0\n",
      "2      Manhattan      36061         1          1628701  11052.0\n",
      "3         Queens      36081         4          2278906   3734.0\n",
      "4  Staten Island      36085         5           476179   1187.0\n"
     ]
    }
   ],
   "source": [
    "grouped=subset_df.groupby(['boro_name', 'COUNTYFIPS','boro_code','boro_population'], as_index=False)['BEDS'].sum()\n",
    "print(grouped)"
   ]
  },
  {
   "cell_type": "markdown",
   "metadata": {},
   "source": [
    "#### Display the `.head()` of `grouped`"
   ]
  },
  {
   "cell_type": "code",
   "execution_count": 29,
   "metadata": {},
   "outputs": [
    {
     "data": {
      "text/html": [
       "<div>\n",
       "<style scoped>\n",
       "    .dataframe tbody tr th:only-of-type {\n",
       "        vertical-align: middle;\n",
       "    }\n",
       "\n",
       "    .dataframe tbody tr th {\n",
       "        vertical-align: top;\n",
       "    }\n",
       "\n",
       "    .dataframe thead th {\n",
       "        text-align: right;\n",
       "    }\n",
       "</style>\n",
       "<table border=\"1\" class=\"dataframe\">\n",
       "  <thead>\n",
       "    <tr style=\"text-align: right;\">\n",
       "      <th></th>\n",
       "      <th>boro_name</th>\n",
       "      <th>COUNTYFIPS</th>\n",
       "      <th>boro_code</th>\n",
       "      <th>boro_population</th>\n",
       "      <th>BEDS</th>\n",
       "    </tr>\n",
       "  </thead>\n",
       "  <tbody>\n",
       "    <tr>\n",
       "      <th>0</th>\n",
       "      <td>Bronx</td>\n",
       "      <td>36005</td>\n",
       "      <td>2</td>\n",
       "      <td>1432132</td>\n",
       "      <td>3822.0</td>\n",
       "    </tr>\n",
       "    <tr>\n",
       "      <th>1</th>\n",
       "      <td>Brooklyn</td>\n",
       "      <td>36047</td>\n",
       "      <td>3</td>\n",
       "      <td>2582830</td>\n",
       "      <td>6166.0</td>\n",
       "    </tr>\n",
       "    <tr>\n",
       "      <th>2</th>\n",
       "      <td>Manhattan</td>\n",
       "      <td>36061</td>\n",
       "      <td>1</td>\n",
       "      <td>1628701</td>\n",
       "      <td>11052.0</td>\n",
       "    </tr>\n",
       "    <tr>\n",
       "      <th>3</th>\n",
       "      <td>Queens</td>\n",
       "      <td>36081</td>\n",
       "      <td>4</td>\n",
       "      <td>2278906</td>\n",
       "      <td>3734.0</td>\n",
       "    </tr>\n",
       "    <tr>\n",
       "      <th>4</th>\n",
       "      <td>Staten Island</td>\n",
       "      <td>36085</td>\n",
       "      <td>5</td>\n",
       "      <td>476179</td>\n",
       "      <td>1187.0</td>\n",
       "    </tr>\n",
       "  </tbody>\n",
       "</table>\n",
       "</div>"
      ],
      "text/plain": [
       "       boro_name COUNTYFIPS boro_code  boro_population     BEDS\n",
       "0          Bronx      36005         2          1432132   3822.0\n",
       "1       Brooklyn      36047         3          2582830   6166.0\n",
       "2      Manhattan      36061         1          1628701  11052.0\n",
       "3         Queens      36081         4          2278906   3734.0\n",
       "4  Staten Island      36085         5           476179   1187.0"
      ]
     },
     "execution_count": 29,
     "metadata": {},
     "output_type": "execute_result"
    }
   ],
   "source": [
    "grouped.head()"
   ]
  },
  {
   "cell_type": "code",
   "execution_count": 30,
   "metadata": {},
   "outputs": [
    {
     "data": {
      "text/plain": [
       "pandas.core.frame.DataFrame"
      ]
     },
     "execution_count": 30,
     "metadata": {},
     "output_type": "execute_result"
    }
   ],
   "source": [
    "type(grouped)"
   ]
  },
  {
   "cell_type": "markdown",
   "metadata": {},
   "source": [
    "#### Create a new column called `boro_pop_per_hosp_bed`. \n",
    "\n",
    "Remember from Lesson 04 where we generate the `df['BEDS_newcol'] = ` code. \n",
    "\n",
    "#### This column will be the Calculation of Population / Beds  ( / meaning divided by)"
   ]
  },
  {
   "cell_type": "code",
   "execution_count": 31,
   "metadata": {},
   "outputs": [
    {
     "name": "stdout",
     "output_type": "stream",
     "text": [
      "['boro_name', 'COUNTYFIPS', 'boro_code', 'boro_population', 'BEDS']\n"
     ]
    }
   ],
   "source": [
    "print(grouped.columns.tolist())"
   ]
  },
  {
   "cell_type": "code",
   "execution_count": null,
   "metadata": {},
   "outputs": [],
   "source": []
  },
  {
   "cell_type": "code",
   "execution_count": 32,
   "metadata": {},
   "outputs": [],
   "source": [
    "grouped['boro_pop_per_hosp_bed']= grouped['boro_population']/grouped['BEDS']"
   ]
  },
  {
   "cell_type": "markdown",
   "metadata": {},
   "source": [
    "#### Display the `.head()` of `grouped` DataFrame to check our results"
   ]
  },
  {
   "cell_type": "code",
   "execution_count": 33,
   "metadata": {},
   "outputs": [
    {
     "data": {
      "text/html": [
       "<div>\n",
       "<style scoped>\n",
       "    .dataframe tbody tr th:only-of-type {\n",
       "        vertical-align: middle;\n",
       "    }\n",
       "\n",
       "    .dataframe tbody tr th {\n",
       "        vertical-align: top;\n",
       "    }\n",
       "\n",
       "    .dataframe thead th {\n",
       "        text-align: right;\n",
       "    }\n",
       "</style>\n",
       "<table border=\"1\" class=\"dataframe\">\n",
       "  <thead>\n",
       "    <tr style=\"text-align: right;\">\n",
       "      <th></th>\n",
       "      <th>boro_name</th>\n",
       "      <th>COUNTYFIPS</th>\n",
       "      <th>boro_code</th>\n",
       "      <th>boro_population</th>\n",
       "      <th>BEDS</th>\n",
       "      <th>boro_pop_per_hosp_bed</th>\n",
       "    </tr>\n",
       "  </thead>\n",
       "  <tbody>\n",
       "    <tr>\n",
       "      <th>0</th>\n",
       "      <td>Bronx</td>\n",
       "      <td>36005</td>\n",
       "      <td>2</td>\n",
       "      <td>1432132</td>\n",
       "      <td>3822.0</td>\n",
       "      <td>374.707483</td>\n",
       "    </tr>\n",
       "    <tr>\n",
       "      <th>1</th>\n",
       "      <td>Brooklyn</td>\n",
       "      <td>36047</td>\n",
       "      <td>3</td>\n",
       "      <td>2582830</td>\n",
       "      <td>6166.0</td>\n",
       "      <td>418.882582</td>\n",
       "    </tr>\n",
       "    <tr>\n",
       "      <th>2</th>\n",
       "      <td>Manhattan</td>\n",
       "      <td>36061</td>\n",
       "      <td>1</td>\n",
       "      <td>1628701</td>\n",
       "      <td>11052.0</td>\n",
       "      <td>147.367083</td>\n",
       "    </tr>\n",
       "    <tr>\n",
       "      <th>3</th>\n",
       "      <td>Queens</td>\n",
       "      <td>36081</td>\n",
       "      <td>4</td>\n",
       "      <td>2278906</td>\n",
       "      <td>3734.0</td>\n",
       "      <td>610.312266</td>\n",
       "    </tr>\n",
       "    <tr>\n",
       "      <th>4</th>\n",
       "      <td>Staten Island</td>\n",
       "      <td>36085</td>\n",
       "      <td>5</td>\n",
       "      <td>476179</td>\n",
       "      <td>1187.0</td>\n",
       "      <td>401.161752</td>\n",
       "    </tr>\n",
       "  </tbody>\n",
       "</table>\n",
       "</div>"
      ],
      "text/plain": [
       "       boro_name COUNTYFIPS boro_code  boro_population     BEDS  \\\n",
       "0          Bronx      36005         2          1432132   3822.0   \n",
       "1       Brooklyn      36047         3          2582830   6166.0   \n",
       "2      Manhattan      36061         1          1628701  11052.0   \n",
       "3         Queens      36081         4          2278906   3734.0   \n",
       "4  Staten Island      36085         5           476179   1187.0   \n",
       "\n",
       "   boro_pop_per_hosp_bed  \n",
       "0             374.707483  \n",
       "1             418.882582  \n",
       "2             147.367083  \n",
       "3             610.312266  \n",
       "4             401.161752  "
      ]
     },
     "execution_count": 33,
     "metadata": {},
     "output_type": "execute_result"
    }
   ],
   "source": [
    "grouped.head()\n",
    "# your code here"
   ]
  },
  {
   "cell_type": "code",
   "execution_count": 42,
   "metadata": {},
   "outputs": [
    {
     "data": {
      "text/html": [
       "<div>\n",
       "<style scoped>\n",
       "    .dataframe tbody tr th:only-of-type {\n",
       "        vertical-align: middle;\n",
       "    }\n",
       "\n",
       "    .dataframe tbody tr th {\n",
       "        vertical-align: top;\n",
       "    }\n",
       "\n",
       "    .dataframe thead th {\n",
       "        text-align: right;\n",
       "    }\n",
       "</style>\n",
       "<table border=\"1\" class=\"dataframe\">\n",
       "  <thead>\n",
       "    <tr style=\"text-align: right;\">\n",
       "      <th></th>\n",
       "      <th>boro_name</th>\n",
       "      <th>COUNTYFIPS</th>\n",
       "      <th>boro_code</th>\n",
       "      <th>boro_population</th>\n",
       "      <th>BEDS</th>\n",
       "      <th>boro_pop_per_hosp_bed</th>\n",
       "      <th>pop_per_hosp_bed</th>\n",
       "    </tr>\n",
       "  </thead>\n",
       "  <tbody>\n",
       "    <tr>\n",
       "      <th>0</th>\n",
       "      <td>Bronx</td>\n",
       "      <td>36005</td>\n",
       "      <td>2</td>\n",
       "      <td>1432132</td>\n",
       "      <td>3822.0</td>\n",
       "      <td>374.707483</td>\n",
       "      <td>375.0</td>\n",
       "    </tr>\n",
       "    <tr>\n",
       "      <th>1</th>\n",
       "      <td>Brooklyn</td>\n",
       "      <td>36047</td>\n",
       "      <td>3</td>\n",
       "      <td>2582830</td>\n",
       "      <td>6166.0</td>\n",
       "      <td>418.882582</td>\n",
       "      <td>419.0</td>\n",
       "    </tr>\n",
       "    <tr>\n",
       "      <th>2</th>\n",
       "      <td>Manhattan</td>\n",
       "      <td>36061</td>\n",
       "      <td>1</td>\n",
       "      <td>1628701</td>\n",
       "      <td>11052.0</td>\n",
       "      <td>147.367083</td>\n",
       "      <td>147.0</td>\n",
       "    </tr>\n",
       "    <tr>\n",
       "      <th>3</th>\n",
       "      <td>Queens</td>\n",
       "      <td>36081</td>\n",
       "      <td>4</td>\n",
       "      <td>2278906</td>\n",
       "      <td>3734.0</td>\n",
       "      <td>610.312266</td>\n",
       "      <td>610.0</td>\n",
       "    </tr>\n",
       "    <tr>\n",
       "      <th>4</th>\n",
       "      <td>Staten Island</td>\n",
       "      <td>36085</td>\n",
       "      <td>5</td>\n",
       "      <td>476179</td>\n",
       "      <td>1187.0</td>\n",
       "      <td>401.161752</td>\n",
       "      <td>401.0</td>\n",
       "    </tr>\n",
       "  </tbody>\n",
       "</table>\n",
       "</div>"
      ],
      "text/plain": [
       "       boro_name COUNTYFIPS boro_code  boro_population     BEDS  \\\n",
       "0          Bronx      36005         2          1432132   3822.0   \n",
       "1       Brooklyn      36047         3          2582830   6166.0   \n",
       "2      Manhattan      36061         1          1628701  11052.0   \n",
       "3         Queens      36081         4          2278906   3734.0   \n",
       "4  Staten Island      36085         5           476179   1187.0   \n",
       "\n",
       "   boro_pop_per_hosp_bed  pop_per_hosp_bed  \n",
       "0             374.707483             375.0  \n",
       "1             418.882582             419.0  \n",
       "2             147.367083             147.0  \n",
       "3             610.312266             610.0  \n",
       "4             401.161752             401.0  "
      ]
     },
     "execution_count": 42,
     "metadata": {},
     "output_type": "execute_result"
    }
   ],
   "source": [
    "# round populatin per hosp bed, test\n",
    "grouped['pop_per_hosp_bed'] = grouped['boro_pop_per_hosp_bed'].round(0)\n",
    "grouped.head()"
   ]
  },
  {
   "cell_type": "markdown",
   "metadata": {},
   "source": [
    "#### Plot a bar chart showing Borough Population per Hospital Bed"
   ]
  },
  {
   "cell_type": "code",
   "execution_count": 43,
   "metadata": {},
   "outputs": [
    {
     "data": {
      "image/png": "[encoded data removed]",
      "text/plain": [
       "<Figure size 720x576 with 1 Axes>"
      ]
     },
     "metadata": {},
     "output_type": "display_data"
    }
   ],
   "source": [
    "plt.figure(figsize=(10, 8))\n",
    "\n",
    "plt.bar(\n",
    "    grouped['boro_name'],\n",
    "    grouped['boro_pop_per_hosp_bed'],\n",
    "    color='dodgerblue'\n",
    ");\n",
    "\n",
    "# leave the above code as-is, this sets the size of your figure. \n",
    "\n",
    "\n",
    "# Add your own Title string below;\n",
    "# Add your own Title string below;\n",
    "# Add your own Title string below;\n",
    "\n",
    "plt.title('People per hospital bed by Borough');"
   ]
  },
  {
   "cell_type": "markdown",
   "metadata": {},
   "source": [
    "# Map our Final Results"
   ]
  },
  {
   "cell_type": "code",
   "execution_count": 44,
   "metadata": {},
   "outputs": [],
   "source": [
    "boro_geojson_link = 'https://data.cityofnewyork.us/api/geospatial/tqmj-j8zm?method=export&format=GeoJSON'"
   ]
  },
  {
   "cell_type": "markdown",
   "metadata": {},
   "source": [
    "#### Read in `boro_geojso_link` as GeoDataFrame called `boro`"
   ]
  },
  {
   "cell_type": "code",
   "execution_count": 45,
   "metadata": {},
   "outputs": [
    {
     "data": {
      "text/html": [
       "<div>\n",
       "<style scoped>\n",
       "    .dataframe tbody tr th:only-of-type {\n",
       "        vertical-align: middle;\n",
       "    }\n",
       "\n",
       "    .dataframe tbody tr th {\n",
       "        vertical-align: top;\n",
       "    }\n",
       "\n",
       "    .dataframe thead th {\n",
       "        text-align: right;\n",
       "    }\n",
       "</style>\n",
       "<table border=\"1\" class=\"dataframe\">\n",
       "  <thead>\n",
       "    <tr style=\"text-align: right;\">\n",
       "      <th></th>\n",
       "      <th>boro_code</th>\n",
       "      <th>boro_name</th>\n",
       "      <th>shape_area</th>\n",
       "      <th>shape_leng</th>\n",
       "      <th>geometry</th>\n",
       "    </tr>\n",
       "  </thead>\n",
       "  <tbody>\n",
       "    <tr>\n",
       "      <th>0</th>\n",
       "      <td>2</td>\n",
       "      <td>Bronx</td>\n",
       "      <td>1186612478.27</td>\n",
       "      <td>462958.187578</td>\n",
       "      <td>MULTIPOLYGON (((-73.89681 40.79581, -73.89694 ...</td>\n",
       "    </tr>\n",
       "    <tr>\n",
       "      <th>1</th>\n",
       "      <td>5</td>\n",
       "      <td>Staten Island</td>\n",
       "      <td>1623757282.78</td>\n",
       "      <td>325956.009</td>\n",
       "      <td>MULTIPOLYGON (((-74.05051 40.56642, -74.05047 ...</td>\n",
       "    </tr>\n",
       "    <tr>\n",
       "      <th>2</th>\n",
       "      <td>3</td>\n",
       "      <td>Brooklyn</td>\n",
       "      <td>1937593022.64</td>\n",
       "      <td>738745.842115</td>\n",
       "      <td>MULTIPOLYGON (((-73.86706 40.58209, -73.86769 ...</td>\n",
       "    </tr>\n",
       "  </tbody>\n",
       "</table>\n",
       "</div>"
      ],
      "text/plain": [
       "  boro_code      boro_name     shape_area     shape_leng  \\\n",
       "0         2          Bronx  1186612478.27  462958.187578   \n",
       "1         5  Staten Island  1623757282.78     325956.009   \n",
       "2         3       Brooklyn  1937593022.64  738745.842115   \n",
       "\n",
       "                                            geometry  \n",
       "0  MULTIPOLYGON (((-73.89681 40.79581, -73.89694 ...  \n",
       "1  MULTIPOLYGON (((-74.05051 40.56642, -74.05047 ...  \n",
       "2  MULTIPOLYGON (((-73.86706 40.58209, -73.86769 ...  "
      ]
     },
     "execution_count": 45,
     "metadata": {},
     "output_type": "execute_result"
    }
   ],
   "source": [
    "boro = gpd.read_file(boro_geojson_link)\n",
    "# your code here\n",
    "boro.head(3)"
   ]
  },
  {
   "cell_type": "code",
   "execution_count": 46,
   "metadata": {},
   "outputs": [
    {
     "name": "stdout",
     "output_type": "stream",
     "text": [
      "Requirement already satisfied: descartes in /opt/anaconda3/envs/geospatial/lib/python3.8/site-packages (1.1.0)\n",
      "Requirement already satisfied: matplotlib in /opt/anaconda3/envs/geospatial/lib/python3.8/site-packages (from descartes) (3.2.1)\n",
      "Requirement already satisfied: python-dateutil>=2.1 in /opt/anaconda3/envs/geospatial/lib/python3.8/site-packages (from matplotlib->descartes) (2.8.1)\n",
      "Requirement already satisfied: numpy>=1.11 in /opt/anaconda3/envs/geospatial/lib/python3.8/site-packages (from matplotlib->descartes) (1.18.1)\n",
      "Requirement already satisfied: kiwisolver>=1.0.1 in /opt/anaconda3/envs/geospatial/lib/python3.8/site-packages (from matplotlib->descartes) (1.1.0)\n",
      "Requirement already satisfied: cycler>=0.10 in /opt/anaconda3/envs/geospatial/lib/python3.8/site-packages (from matplotlib->descartes) (0.10.0)\n",
      "Requirement already satisfied: pyparsing!=2.0.4,!=2.1.2,!=2.1.6,>=2.0.1 in /opt/anaconda3/envs/geospatial/lib/python3.8/site-packages (from matplotlib->descartes) (2.4.6)\n",
      "Requirement already satisfied: six>=1.5 in /opt/anaconda3/envs/geospatial/lib/python3.8/site-packages (from python-dateutil>=2.1->matplotlib->descartes) (1.14.0)\n",
      "Requirement already satisfied: setuptools in /opt/anaconda3/envs/geospatial/lib/python3.8/site-packages (from kiwisolver>=1.0.1->matplotlib->descartes) (46.1.3.post20200330)\n"
     ]
    }
   ],
   "source": [
    "!pip install descartes"
   ]
  },
  {
   "cell_type": "code",
   "execution_count": 159,
   "metadata": {},
   "outputs": [
    {
     "data": {
      "image/png": "[encoded data removed]",
      "text/plain": [
       "<Figure size 432x288 with 1 Axes>"
      ]
     },
     "metadata": {},
     "output_type": "display_data"
    }
   ],
   "source": [
    "boro.plot();\n",
    "# run this code as-is"
   ]
  },
  {
   "cell_type": "markdown",
   "metadata": {},
   "source": [
    "#### Merge `boro` to `grouped` on `boro_code` with a 'left' as `how=`"
   ]
  },
  {
   "cell_type": "code",
   "execution_count": 47,
   "metadata": {},
   "outputs": [],
   "source": [
    "merged_df = pd.merge(\n",
    "    left=nyc_hospitals,   # our hospitals geodataframe\n",
    "    right=boro_df,  # our boro dictionary dataframe variable name\n",
    "    on='COUNTYFIPS',  # the common field to merge/join these tables. \n",
    "    how='left',  # left-join, leave this line of code as-is\n",
    ")  "
   ]
  },
  {
   "cell_type": "code",
   "execution_count": 48,
   "metadata": {},
   "outputs": [],
   "source": [
    "boro_joined = pd.merge(\n",
    "    left=boro,      # our `boro` geodataframe\n",
    "    right=grouped,  # our `grouped` bed count sums\n",
    "    on='boro_code', # the common id to join grouped to boro\n",
    "    how='left',     # join on 'left'\n",
    ")"
   ]
  },
  {
   "cell_type": "code",
   "execution_count": 49,
   "metadata": {},
   "outputs": [
    {
     "data": {
      "text/html": [
       "<div>\n",
       "<style scoped>\n",
       "    .dataframe tbody tr th:only-of-type {\n",
       "        vertical-align: middle;\n",
       "    }\n",
       "\n",
       "    .dataframe tbody tr th {\n",
       "        vertical-align: top;\n",
       "    }\n",
       "\n",
       "    .dataframe thead th {\n",
       "        text-align: right;\n",
       "    }\n",
       "</style>\n",
       "<table border=\"1\" class=\"dataframe\">\n",
       "  <thead>\n",
       "    <tr style=\"text-align: right;\">\n",
       "      <th></th>\n",
       "      <th>boro_code</th>\n",
       "      <th>boro_name_x</th>\n",
       "      <th>shape_area</th>\n",
       "      <th>shape_leng</th>\n",
       "      <th>geometry</th>\n",
       "      <th>boro_name_y</th>\n",
       "      <th>COUNTYFIPS</th>\n",
       "      <th>boro_population</th>\n",
       "      <th>BEDS</th>\n",
       "      <th>boro_pop_per_hosp_bed</th>\n",
       "      <th>pop_per_hosp_bed</th>\n",
       "    </tr>\n",
       "  </thead>\n",
       "  <tbody>\n",
       "    <tr>\n",
       "      <th>0</th>\n",
       "      <td>2</td>\n",
       "      <td>Bronx</td>\n",
       "      <td>1186612478.27</td>\n",
       "      <td>462958.187578</td>\n",
       "      <td>MULTIPOLYGON (((-73.89681 40.79581, -73.89694 ...</td>\n",
       "      <td>Bronx</td>\n",
       "      <td>36005</td>\n",
       "      <td>1432132</td>\n",
       "      <td>3822.0</td>\n",
       "      <td>374.707483</td>\n",
       "      <td>375.0</td>\n",
       "    </tr>\n",
       "    <tr>\n",
       "      <th>1</th>\n",
       "      <td>5</td>\n",
       "      <td>Staten Island</td>\n",
       "      <td>1623757282.78</td>\n",
       "      <td>325956.009</td>\n",
       "      <td>MULTIPOLYGON (((-74.05051 40.56642, -74.05047 ...</td>\n",
       "      <td>Staten Island</td>\n",
       "      <td>36085</td>\n",
       "      <td>476179</td>\n",
       "      <td>1187.0</td>\n",
       "      <td>401.161752</td>\n",
       "      <td>401.0</td>\n",
       "    </tr>\n",
       "    <tr>\n",
       "      <th>2</th>\n",
       "      <td>3</td>\n",
       "      <td>Brooklyn</td>\n",
       "      <td>1937593022.64</td>\n",
       "      <td>738745.842115</td>\n",
       "      <td>MULTIPOLYGON (((-73.86706 40.58209, -73.86769 ...</td>\n",
       "      <td>Brooklyn</td>\n",
       "      <td>36047</td>\n",
       "      <td>2582830</td>\n",
       "      <td>6166.0</td>\n",
       "      <td>418.882582</td>\n",
       "      <td>419.0</td>\n",
       "    </tr>\n",
       "    <tr>\n",
       "      <th>3</th>\n",
       "      <td>4</td>\n",
       "      <td>Queens</td>\n",
       "      <td>3045878293.21</td>\n",
       "      <td>904188.424488</td>\n",
       "      <td>MULTIPOLYGON (((-73.83668 40.59495, -73.83678 ...</td>\n",
       "      <td>Queens</td>\n",
       "      <td>36081</td>\n",
       "      <td>2278906</td>\n",
       "      <td>3734.0</td>\n",
       "      <td>610.312266</td>\n",
       "      <td>610.0</td>\n",
       "    </tr>\n",
       "    <tr>\n",
       "      <th>4</th>\n",
       "      <td>1</td>\n",
       "      <td>Manhattan</td>\n",
       "      <td>636602658.887</td>\n",
       "      <td>361212.476098</td>\n",
       "      <td>MULTIPOLYGON (((-74.01093 40.68449, -74.01193 ...</td>\n",
       "      <td>Manhattan</td>\n",
       "      <td>36061</td>\n",
       "      <td>1628701</td>\n",
       "      <td>11052.0</td>\n",
       "      <td>147.367083</td>\n",
       "      <td>147.0</td>\n",
       "    </tr>\n",
       "  </tbody>\n",
       "</table>\n",
       "</div>"
      ],
      "text/plain": [
       "  boro_code    boro_name_x     shape_area     shape_leng  \\\n",
       "0         2          Bronx  1186612478.27  462958.187578   \n",
       "1         5  Staten Island  1623757282.78     325956.009   \n",
       "2         3       Brooklyn  1937593022.64  738745.842115   \n",
       "3         4         Queens  3045878293.21  904188.424488   \n",
       "4         1      Manhattan  636602658.887  361212.476098   \n",
       "\n",
       "                                            geometry    boro_name_y  \\\n",
       "0  MULTIPOLYGON (((-73.89681 40.79581, -73.89694 ...          Bronx   \n",
       "1  MULTIPOLYGON (((-74.05051 40.56642, -74.05047 ...  Staten Island   \n",
       "2  MULTIPOLYGON (((-73.86706 40.58209, -73.86769 ...       Brooklyn   \n",
       "3  MULTIPOLYGON (((-73.83668 40.59495, -73.83678 ...         Queens   \n",
       "4  MULTIPOLYGON (((-74.01093 40.68449, -74.01193 ...      Manhattan   \n",
       "\n",
       "  COUNTYFIPS  boro_population     BEDS  boro_pop_per_hosp_bed  \\\n",
       "0      36005          1432132   3822.0             374.707483   \n",
       "1      36085           476179   1187.0             401.161752   \n",
       "2      36047          2582830   6166.0             418.882582   \n",
       "3      36081          2278906   3734.0             610.312266   \n",
       "4      36061          1628701  11052.0             147.367083   \n",
       "\n",
       "   pop_per_hosp_bed  \n",
       "0             375.0  \n",
       "1             401.0  \n",
       "2             419.0  \n",
       "3             610.0  \n",
       "4             147.0  "
      ]
     },
     "execution_count": 49,
     "metadata": {},
     "output_type": "execute_result"
    }
   ],
   "source": [
    "boro_joined\n",
    "# run cell as is"
   ]
  },
  {
   "cell_type": "code",
   "execution_count": 50,
   "metadata": {},
   "outputs": [
    {
     "name": "stdout",
     "output_type": "stream",
     "text": [
      "Requirement already satisfied: mapclassify in /opt/anaconda3/envs/geospatial/lib/python3.8/site-packages (2.2.0)\n",
      "Requirement already satisfied: scipy>=0.11 in /opt/anaconda3/envs/geospatial/lib/python3.8/site-packages (from mapclassify) (1.4.1)\n",
      "Requirement already satisfied: pandas in /opt/anaconda3/envs/geospatial/lib/python3.8/site-packages (from mapclassify) (1.0.3)\n",
      "Requirement already satisfied: deprecated in /opt/anaconda3/envs/geospatial/lib/python3.8/site-packages (from mapclassify) (1.2.8)\n",
      "Requirement already satisfied: scikit-learn in /opt/anaconda3/envs/geospatial/lib/python3.8/site-packages (from mapclassify) (0.22.2.post1)\n",
      "Requirement already satisfied: numpy>=1.3 in /opt/anaconda3/envs/geospatial/lib/python3.8/site-packages (from mapclassify) (1.18.1)\n",
      "Requirement already satisfied: python-dateutil>=2.6.1 in /opt/anaconda3/envs/geospatial/lib/python3.8/site-packages (from pandas->mapclassify) (2.8.1)\n",
      "Requirement already satisfied: pytz>=2017.2 in /opt/anaconda3/envs/geospatial/lib/python3.8/site-packages (from pandas->mapclassify) (2019.3)\n",
      "Requirement already satisfied: wrapt<2,>=1.10 in /opt/anaconda3/envs/geospatial/lib/python3.8/site-packages (from deprecated->mapclassify) (1.12.1)\n",
      "Requirement already satisfied: joblib>=0.11 in /opt/anaconda3/envs/geospatial/lib/python3.8/site-packages (from scikit-learn->mapclassify) (0.14.1)\n",
      "Requirement already satisfied: six>=1.5 in /opt/anaconda3/envs/geospatial/lib/python3.8/site-packages (from python-dateutil>=2.6.1->pandas->mapclassify) (1.14.0)\n"
     ]
    }
   ],
   "source": [
    "!pip install mapclassify"
   ]
  },
  {
   "cell_type": "code",
   "execution_count": 55,
   "metadata": {},
   "outputs": [
    {
     "data": {
      "image/png": "[encoded data removed]",
      "text/plain": [
       "<Figure size 864x864 with 1 Axes>"
      ]
     },
     "metadata": {},
     "output_type": "display_data"
    }
   ],
   "source": [
    "# # run cell as-is\n",
    "# # run cell as-is\n",
    "# # run cell as-is\n",
    "fig, ax = plt.subplots(figsize=(12, 12))\n",
    "\n",
    "boro_joined.to_crs(epsg=2263).plot(\n",
    "    column='pop_per_hosp_bed', \n",
    "    cmap='Greens',\n",
    "    edgecolor='darkgrey',\n",
    "    linewidth=0.5,\n",
    "    scheme='Quantiles',\n",
    "    facecolor='white',\n",
    "    ax = ax,\n",
    "    legend=True,\n",
    "    legend_kwds={\n",
    "        'title': 'Population per Hospital Bed',\n",
    "        'loc': 'upper left',\n",
    "        'shadow': False,\n",
    "        'fontsize': 8,\n",
    "        'facecolor': 'white',\n",
    "        'labelspacing':1,\n",
    "        'frameon':False,\n",
    "        #'align':'left',\n",
    "        # 'legend_labels':['Manhattan: 147', 'Bronx: 375', 'Staten Island: 400', 'Brooklyn: 420', 'Queens: 610']\n",
    "    },\n",
    ")\n",
    "ax.axis('off')\n",
    "# ax.xaxis.set_ticklabels([])\n",
    "# ax.yaxis.set_ticklabels([])\n",
    "\n",
    "# KWDs (kew word args) go to matplotlib, geopandas, \n",
    "# modifying is tricky because of library built on top of libraries on top of libraries\n",
    "\n",
    "# go to https://geopandas.org/\n",
    "# and to matplotlib \n",
    "\n",
    "plt.title('Borough Population per Hospital Bed')\n",
    "\n",
    "plt.savefig('img/borough_pop_per_hosp_bed.png')\n",
    "plt.show();"
   ]
  },
  {
   "cell_type": "code",
   "execution_count": 87,
   "metadata": {},
   "outputs": [],
   "source": [
    "# Note, I'd probably spend a little more time on the legend labels. \n",
    "# Also, would probably get rid of the ggplot background and tick's. \n",
    "# Plotting in Python, requires a lot of code. "
   ]
  }
 ],
 "metadata": {
  "kernelspec": {
   "display_name": "Python 3",
   "language": "python",
   "name": "python3"
  },
  "language_info": {
   "codemirror_mode": {
    "name": "ipython",
    "version": 3
   },
   "file_extension": ".py",
   "mimetype": "text/x-python",
   "name": "python",
   "nbconvert_exporter": "python",
   "pygments_lexer": "ipython3",
   "version": "3.8.2"
  },
  "toc": {
   "base_numbering": 1,
   "nav_menu": {},
   "number_sections": false,
   "sideBar": true,
   "skip_h1_title": false,
   "title_cell": "Table of Contents",
   "title_sidebar": "Contents",
   "toc_cell": true,
   "toc_position": {},
   "toc_section_display": true,
   "toc_window_display": true
  }
 },
 "nbformat": 4,
 "nbformat_minor": 2
}
